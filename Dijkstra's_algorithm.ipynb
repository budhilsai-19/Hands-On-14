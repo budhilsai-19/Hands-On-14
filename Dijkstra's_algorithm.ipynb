{
  "nbformat": 4,
  "nbformat_minor": 0,
  "metadata": {
    "colab": {
      "provenance": [],
      "authorship_tag": "ABX9TyOhf+vN/8IS76kvdpNCX952",
      "include_colab_link": true
    },
    "kernelspec": {
      "name": "python3",
      "display_name": "Python 3"
    },
    "language_info": {
      "name": "python"
    }
  },
  "cells": [
    {
      "cell_type": "markdown",
      "metadata": {
        "id": "view-in-github",
        "colab_type": "text"
      },
      "source": [
        "<a href=\"https://colab.research.google.com/github/budhilsai-19/Hands-On-14/blob/main/Dijkstra's_algorithm.ipynb\" target=\"_parent\"><img src=\"https://colab.research.google.com/assets/colab-badge.svg\" alt=\"Open In Colab\"/></a>"
      ]
    },
    {
      "cell_type": "code",
      "execution_count": 1,
      "metadata": {
        "colab": {
          "base_uri": "https://localhost:8080/"
        },
        "id": "PnIjR0fKT1ka",
        "outputId": "02ab220b-5b88-464c-e52b-c5c061180ee5"
      },
      "outputs": [
        {
          "output_type": "stream",
          "name": "stdout",
          "text": [
            "Shortest distances from node A to all other nodes:\n",
            "{'A': 0, 'B': 4, 'C': 7, 'D': 9}\n"
          ]
        }
      ],
      "source": [
        "import heapq\n",
        "\n",
        "def dijkstra(graph, start):\n",
        "    distances = {node: float('inf') for node in graph}\n",
        "    distances[start] = 0\n",
        "\n",
        "    priority_queue = [(0, start)]\n",
        "\n",
        "    while priority_queue:\n",
        "        current_distance, current_node = heapq.heappop(priority_queue)\n",
        "\n",
        "        if current_distance > distances[current_node]:\n",
        "            continue\n",
        "\n",
        "        for neighbor, weight in graph[current_node].items():\n",
        "            distance = current_distance + weight\n",
        "            if distance < distances[neighbor]:\n",
        "                distances[neighbor] = distance\n",
        "                heapq.heappush(priority_queue, (distance, neighbor))\n",
        "\n",
        "    return distances\n",
        "\n",
        "# Example\n",
        "graph = {\n",
        "    'A': {'B': 4, 'C': 8},\n",
        "    'B': {'A': 4, 'C': 3, 'D': 7},\n",
        "    'C': {'A': 8, 'B': 3, 'D': 2},\n",
        "    'D': {'B': 7, 'C': 2}\n",
        "}\n",
        "\n",
        "start_node = 'A'\n",
        "shortest_distances = dijkstra(graph, start_node)\n",
        "print(\"Shortest distances from node\", start_node, \"to all other nodes:\")\n",
        "print(shortest_distances)"
      ]
    }
  ]
}