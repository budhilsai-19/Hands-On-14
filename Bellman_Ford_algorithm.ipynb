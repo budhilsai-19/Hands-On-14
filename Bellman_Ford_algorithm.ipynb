{
  "nbformat": 4,
  "nbformat_minor": 0,
  "metadata": {
    "colab": {
      "provenance": [],
      "authorship_tag": "ABX9TyMpYA6gVOvKR3xjlLK9IsD4",
      "include_colab_link": true
    },
    "kernelspec": {
      "name": "python3",
      "display_name": "Python 3"
    },
    "language_info": {
      "name": "python"
    }
  },
  "cells": [
    {
      "cell_type": "markdown",
      "metadata": {
        "id": "view-in-github",
        "colab_type": "text"
      },
      "source": [
        "<a href=\"https://colab.research.google.com/github/budhilsai-19/Hands-On-14/blob/main2/Bellman_Ford_algorithm.ipynb\" target=\"_parent\"><img src=\"https://colab.research.google.com/assets/colab-badge.svg\" alt=\"Open In Colab\"/></a>"
      ]
    },
    {
      "cell_type": "code",
      "execution_count": 1,
      "metadata": {
        "colab": {
          "base_uri": "https://localhost:8080/"
        },
        "id": "cQL7U0zOUCcX",
        "outputId": "0e4a285f-5f4c-49e3-dee3-b77b3bcf7597"
      },
      "outputs": [
        {
          "output_type": "stream",
          "name": "stdout",
          "text": [
            "Shortest distances from node A to all other nodes:\n",
            "{'A': 0, 'B': 7, 'C': 3, 'D': 9, 'E': 6}\n"
          ]
        }
      ],
      "source": [
        "def bellman_ford(graph, start):\n",
        "    distances = {node: float('inf') for node in graph}\n",
        "    distances[start] = 0\n",
        "\n",
        "    for _ in range(len(graph) - 1):\n",
        "        for node in graph:\n",
        "            for neighbor, weight in graph[node].items():\n",
        "                if distances[node] + weight < distances[neighbor]:\n",
        "                    distances[neighbor] = distances[node] + weight\n",
        "\n",
        "    for node in graph:\n",
        "        for neighbor, weight in graph[node].items():\n",
        "            if distances[node] + weight < distances[neighbor]:\n",
        "                raise ValueError(\"Graph contains a negative cycle\")\n",
        "\n",
        "    return distances\n",
        "\n",
        "# Example\n",
        "graph = {\n",
        "    'A': {'B': 7, 'C': 3},\n",
        "    'B': {'D': 2},\n",
        "    'C': {'B': 4, 'D': 6},\n",
        "    'D': {'E': -3},\n",
        "    'E': {}\n",
        "}\n",
        "\n",
        "start_node = 'A'\n",
        "try:\n",
        "    shortest_distances = bellman_ford(graph, start_node)\n",
        "    print(\"Shortest distances from node\", start_node, \"to all other nodes:\")\n",
        "    print(shortest_distances)\n",
        "except ValueError as e:\n",
        "    print(e)\n"
      ]
    }
  ]
}