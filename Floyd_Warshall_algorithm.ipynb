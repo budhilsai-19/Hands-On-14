{
  "nbformat": 4,
  "nbformat_minor": 0,
  "metadata": {
    "colab": {
      "provenance": [],
      "authorship_tag": "ABX9TyN5730MlKg0imZfv/uglG0L",
      "include_colab_link": true
    },
    "kernelspec": {
      "name": "python3",
      "display_name": "Python 3"
    },
    "language_info": {
      "name": "python"
    }
  },
  "cells": [
    {
      "cell_type": "markdown",
      "metadata": {
        "id": "view-in-github",
        "colab_type": "text"
      },
      "source": [
        "<a href=\"https://colab.research.google.com/github/budhilsai-19/Hands-On-14/blob/main3/Floyd_Warshall_algorithm.ipynb\" target=\"_parent\"><img src=\"https://colab.research.google.com/assets/colab-badge.svg\" alt=\"Open In Colab\"/></a>"
      ]
    },
    {
      "cell_type": "code",
      "execution_count": 1,
      "metadata": {
        "colab": {
          "base_uri": "https://localhost:8080/"
        },
        "id": "ahq5Q2jpUWMr",
        "outputId": "3d3d3b54-8587-428c-bf3d-926d5275cc04"
      },
      "outputs": [
        {
          "output_type": "stream",
          "name": "stdout",
          "text": [
            "Shortest distances between all pairs of nodes:\n",
            "Distance from A to A: 0\n",
            "Distance from A to B: 3\n",
            "Distance from A to C: 5\n",
            "Distance from A to D: 6\n",
            "Distance from B to A: 3\n",
            "Distance from B to B: 0\n",
            "Distance from B to C: 2\n",
            "Distance from B to D: 6\n",
            "Distance from C to A: 6\n",
            "Distance from C to B: 9\n",
            "Distance from C to C: 0\n",
            "Distance from C to D: 4\n",
            "Distance from D to A: 2\n",
            "Distance from D to B: 5\n",
            "Distance from D to C: 7\n",
            "Distance from D to D: 0\n"
          ]
        }
      ],
      "source": [
        "def floyd_warshall(graph):\n",
        "    dist = {i: {j: float('inf') for j in graph} for i in graph}\n",
        "    for node in graph:\n",
        "        dist[node][node] = 0\n",
        "        for neighbor, weight in graph[node].items():\n",
        "            dist[node][neighbor] = weight\n",
        "\n",
        "    for k in graph:\n",
        "        for i in graph:\n",
        "            for j in graph:\n",
        "                dist[i][j] = min(dist[i][j], dist[i][k] + dist[k][j])\n",
        "\n",
        "    return dist\n",
        "\n",
        "\n",
        "# Example\n",
        "graph = {\n",
        "    'A': {'B': 3, 'C': 5, 'D': 6},\n",
        "    'B': {'A': 3, 'C': 2},\n",
        "    'C': {'D': 4},\n",
        "    'D': {'A': 2, 'C': 7}\n",
        "}\n",
        "\n",
        "\n",
        "shortest_distances = floyd_warshall(graph)\n",
        "print(\"Shortest distances between all pairs of nodes:\")\n",
        "for node1 in shortest_distances:\n",
        "    for node2 in shortest_distances[node1]:\n",
        "        print(f\"Distance from {node1} to {node2}: {shortest_distances[node1][node2]}\")"
      ]
    }
  ]
}